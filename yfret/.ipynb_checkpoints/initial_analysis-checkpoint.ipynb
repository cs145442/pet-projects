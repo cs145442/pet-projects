{
 "cells": [
  {
   "cell_type": "markdown",
   "metadata": {},
   "source": [
    "## Objective \n",
    "\n",
    "1. Segment users based on their browsing activity.\n",
    "2. Generate product catalog insights on category/subcategory level. \n",
    "3. Identify the major factors affecting users' buying decisions. \n",
    "\n",
    "### Events data attribute description \n",
    "* sid - session Id\n",
    "* tt_id - user Id\n",
    "* epoch - timestamp of the event\n",
    "* log_url - URL of the page\n",
    "* action_type - type of action ex. view, add to cart, place order etc.\n",
    "* object type - type of object the action is performed on Ex. Product, collection etc.\n",
    "* object id - changes based on the action type Ex. product Id, collection Id etc.\n",
    "* utm parameters - utm_source, utm_campaign, utm_medium are tracking parameters extracted from the URL of the page.\n",
    "\n",
    " \n",
    "Other metadata fields with location, user agent data are self-explanatory.\n",
    "Please find the product catalog data attached. \n",
    "\n",
    "### Product catalog attribute description\n",
    "\n",
    "* mfr_code - unique Id of the product\n",
    "* avlble - 1 - product is in stock, 0 - product out of stock.\n",
    "\n",
    "Other catalog fields contain the product details which are self-explanatory."
   ]
  },
  {
   "cell_type": "code",
   "execution_count": 4,
   "metadata": {},
   "outputs": [],
   "source": [
    "import pandas as pd\n",
    "import seaborn as sns"
   ]
  },
  {
   "cell_type": "markdown",
   "metadata": {},
   "source": [
    "### Loading the product catalogs as well as events data"
   ]
  },
  {
   "cell_type": "code",
   "execution_count": 5,
   "metadata": {},
   "outputs": [
    {
     "data": {
      "text/html": [
       "<div>\n",
       "<style scoped>\n",
       "    .dataframe tbody tr th:only-of-type {\n",
       "        vertical-align: middle;\n",
       "    }\n",
       "\n",
       "    .dataframe tbody tr th {\n",
       "        vertical-align: top;\n",
       "    }\n",
       "\n",
       "    .dataframe thead th {\n",
       "        text-align: right;\n",
       "    }\n",
       "</style>\n",
       "<table border=\"1\" class=\"dataframe\">\n",
       "  <thead>\n",
       "    <tr style=\"text-align: right;\">\n",
       "      <th></th>\n",
       "      <th>_id</th>\n",
       "      <th>additional_image</th>\n",
       "      <th>adult</th>\n",
       "      <th>availability_date</th>\n",
       "      <th>avlble</th>\n",
       "      <th>brand</th>\n",
       "      <th>business_unit</th>\n",
       "      <th>category</th>\n",
       "      <th>collection</th>\n",
       "      <th>color</th>\n",
       "      <th>...</th>\n",
       "      <th>sale_price_usd</th>\n",
       "      <th>status</th>\n",
       "      <th>sub_account</th>\n",
       "      <th>subcategories</th>\n",
       "      <th>trendrank</th>\n",
       "      <th>unit</th>\n",
       "      <th>updated</th>\n",
       "      <th>url</th>\n",
       "      <th>variants</th>\n",
       "      <th>width</th>\n",
       "    </tr>\n",
       "  </thead>\n",
       "  <tbody>\n",
       "    <tr>\n",
       "      <th>0</th>\n",
       "      <td>1.969160e+37</td>\n",
       "      <td>https://staticimg.titan.co.in/Tanishq/Catalog/...</td>\n",
       "      <td>No</td>\n",
       "      <td>NaN</td>\n",
       "      <td>0</td>\n",
       "      <td>Tanishq</td>\n",
       "      <td>Jewellery</td>\n",
       "      <td>NaN</td>\n",
       "      <td>NaN</td>\n",
       "      <td>NaN</td>\n",
       "      <td>...</td>\n",
       "      <td>61.42</td>\n",
       "      <td>Active</td>\n",
       "      <td>[tanishq]</td>\n",
       "      <td>Jeweller</td>\n",
       "      <td>NaN</td>\n",
       "      <td>NaN</td>\n",
       "      <td>False</td>\n",
       "      <td>/product/tanishq-18kt-gold-and-diamond-stud-ea...</td>\n",
       "      <td>{u'2JA000003': {u'price': 4431.0, u'listprice'...</td>\n",
       "      <td>NaN</td>\n",
       "    </tr>\n",
       "    <tr>\n",
       "      <th>1</th>\n",
       "      <td>9.450330e+37</td>\n",
       "      <td>https://staticimg.titan.co.in/Mia/Catalog/5528...</td>\n",
       "      <td>No</td>\n",
       "      <td>NaN</td>\n",
       "      <td>1</td>\n",
       "      <td>MIA</td>\n",
       "      <td>Jewellery</td>\n",
       "      <td>tq-mia-collections</td>\n",
       "      <td>Mia Birthstone Pendants</td>\n",
       "      <td>NaN</td>\n",
       "      <td>...</td>\n",
       "      <td>227.07</td>\n",
       "      <td>Active</td>\n",
       "      <td>[tanishq, mia]</td>\n",
       "      <td>Jewellery</td>\n",
       "      <td>1.0</td>\n",
       "      <td>millimeters</td>\n",
       "      <td>False</td>\n",
       "      <td>/product/chain-pendant-552819gahaacz</td>\n",
       "      <td>{u'2BD000278': {u'price': 16149.0, u'listprice...</td>\n",
       "      <td>NaN</td>\n",
       "    </tr>\n",
       "    <tr>\n",
       "      <th>2</th>\n",
       "      <td>6.910120e+37</td>\n",
       "      <td>https://staticimg.titan.co.in/Tanishq/Catalog/...</td>\n",
       "      <td>No</td>\n",
       "      <td>NaN</td>\n",
       "      <td>1</td>\n",
       "      <td>Tanishq</td>\n",
       "      <td>Jewellery</td>\n",
       "      <td>NaN</td>\n",
       "      <td>Contemporary</td>\n",
       "      <td>NaN</td>\n",
       "      <td>...</td>\n",
       "      <td>161.21</td>\n",
       "      <td>Active</td>\n",
       "      <td>[tanishq]</td>\n",
       "      <td>Diamond</td>\n",
       "      <td>NaN</td>\n",
       "      <td>NaN</td>\n",
       "      <td>False</td>\n",
       "      <td>/product/tanishq-18kt-rose-gold-and-diamond-fi...</td>\n",
       "      <td>{u'2JA005106': {u'price': 11493.0, u'listprice...</td>\n",
       "      <td>16.4 mm</td>\n",
       "    </tr>\n",
       "    <tr>\n",
       "      <th>3</th>\n",
       "      <td>1.111910e+38</td>\n",
       "      <td>https://staticimg.titan.co.in/Tanishq/Catalog/...</td>\n",
       "      <td>No</td>\n",
       "      <td>NaN</td>\n",
       "      <td>1</td>\n",
       "      <td>Tanishq</td>\n",
       "      <td>Jewellery</td>\n",
       "      <td>NaN</td>\n",
       "      <td>NaN</td>\n",
       "      <td>NaN</td>\n",
       "      <td>...</td>\n",
       "      <td>107.84</td>\n",
       "      <td>Active</td>\n",
       "      <td>[tanishq]</td>\n",
       "      <td>Jeweller</td>\n",
       "      <td>30.0</td>\n",
       "      <td>NaN</td>\n",
       "      <td>False</td>\n",
       "      <td>/product/tanishq-18kt-gold-and-diamond-earring...</td>\n",
       "      <td>{u'2BD005443': {u'price': 7688.0, u'listprice'...</td>\n",
       "      <td>NaN</td>\n",
       "    </tr>\n",
       "    <tr>\n",
       "      <th>4</th>\n",
       "      <td>2.911930e+38</td>\n",
       "      <td>https://staticimg.titan.co.in/Tanishq/Catalog/...</td>\n",
       "      <td>No</td>\n",
       "      <td>NaN</td>\n",
       "      <td>1</td>\n",
       "      <td>Tanishq</td>\n",
       "      <td>Jewellery</td>\n",
       "      <td>NaN</td>\n",
       "      <td>NaN</td>\n",
       "      <td>NaN</td>\n",
       "      <td>...</td>\n",
       "      <td>2813.45</td>\n",
       "      <td>Active</td>\n",
       "      <td>[tanishq]</td>\n",
       "      <td>Jeweller</td>\n",
       "      <td>1.0</td>\n",
       "      <td>NaN</td>\n",
       "      <td>False</td>\n",
       "      <td>/product/22kt-gold-and-ruby-neckwear-in-a-flor...</td>\n",
       "      <td>{u'2BA805635': {u'price': 200571.0, u'listpric...</td>\n",
       "      <td>NaN</td>\n",
       "    </tr>\n",
       "  </tbody>\n",
       "</table>\n",
       "<p>5 rows × 60 columns</p>\n",
       "</div>"
      ],
      "text/plain": [
       "            _id                                   additional_image adult  \\\n",
       "0  1.969160e+37  https://staticimg.titan.co.in/Tanishq/Catalog/...    No   \n",
       "1  9.450330e+37  https://staticimg.titan.co.in/Mia/Catalog/5528...    No   \n",
       "2  6.910120e+37  https://staticimg.titan.co.in/Tanishq/Catalog/...    No   \n",
       "3  1.111910e+38  https://staticimg.titan.co.in/Tanishq/Catalog/...    No   \n",
       "4  2.911930e+38  https://staticimg.titan.co.in/Tanishq/Catalog/...    No   \n",
       "\n",
       "   availability_date  avlble    brand business_unit            category  \\\n",
       "0                NaN       0  Tanishq     Jewellery                 NaN   \n",
       "1                NaN       1      MIA     Jewellery  tq-mia-collections   \n",
       "2                NaN       1  Tanishq     Jewellery                 NaN   \n",
       "3                NaN       1  Tanishq     Jewellery                 NaN   \n",
       "4                NaN       1  Tanishq     Jewellery                 NaN   \n",
       "\n",
       "                collection  color  ... sale_price_usd  status     sub_account  \\\n",
       "0                      NaN    NaN  ...          61.42  Active       [tanishq]   \n",
       "1  Mia Birthstone Pendants    NaN  ...         227.07  Active  [tanishq, mia]   \n",
       "2             Contemporary    NaN  ...         161.21  Active       [tanishq]   \n",
       "3                      NaN    NaN  ...         107.84  Active       [tanishq]   \n",
       "4                      NaN    NaN  ...        2813.45  Active       [tanishq]   \n",
       "\n",
       "  subcategories trendrank         unit updated  \\\n",
       "0      Jeweller       NaN          NaN   False   \n",
       "1     Jewellery       1.0  millimeters   False   \n",
       "2       Diamond       NaN          NaN   False   \n",
       "3      Jeweller      30.0          NaN   False   \n",
       "4      Jeweller       1.0          NaN   False   \n",
       "\n",
       "                                                 url  \\\n",
       "0  /product/tanishq-18kt-gold-and-diamond-stud-ea...   \n",
       "1               /product/chain-pendant-552819gahaacz   \n",
       "2  /product/tanishq-18kt-rose-gold-and-diamond-fi...   \n",
       "3  /product/tanishq-18kt-gold-and-diamond-earring...   \n",
       "4  /product/22kt-gold-and-ruby-neckwear-in-a-flor...   \n",
       "\n",
       "                                            variants    width  \n",
       "0  {u'2JA000003': {u'price': 4431.0, u'listprice'...      NaN  \n",
       "1  {u'2BD000278': {u'price': 16149.0, u'listprice...      NaN  \n",
       "2  {u'2JA005106': {u'price': 11493.0, u'listprice...  16.4 mm  \n",
       "3  {u'2BD005443': {u'price': 7688.0, u'listprice'...      NaN  \n",
       "4  {u'2BA805635': {u'price': 200571.0, u'listpric...      NaN  \n",
       "\n",
       "[5 rows x 60 columns]"
      ]
     },
     "execution_count": 5,
     "metadata": {},
     "output_type": "execute_result"
    }
   ],
   "source": [
    "product_data = pd.read_csv('/opt/luciapp/data/tanishq_products.csv')\n",
    "product_data.head()"
   ]
  },
  {
   "cell_type": "code",
   "execution_count": 11,
   "metadata": {},
   "outputs": [
    {
     "name": "stderr",
     "output_type": "stream",
     "text": [
      "/opt/runtime-environments/nlp/lib/python3.7/site-packages/IPython/core/interactiveshell.py:3063: DtypeWarning: Columns (4) have mixed types.Specify dtype option on import or set low_memory=False.\n",
      "  interactivity=interactivity, compiler=compiler, result=result)\n"
     ]
    },
    {
     "data": {
      "text/html": [
       "<div>\n",
       "<style scoped>\n",
       "    .dataframe tbody tr th:only-of-type {\n",
       "        vertical-align: middle;\n",
       "    }\n",
       "\n",
       "    .dataframe tbody tr th {\n",
       "        vertical-align: top;\n",
       "    }\n",
       "\n",
       "    .dataframe thead th {\n",
       "        text-align: right;\n",
       "    }\n",
       "</style>\n",
       "<table border=\"1\" class=\"dataframe\">\n",
       "  <thead>\n",
       "    <tr style=\"text-align: right;\">\n",
       "      <th></th>\n",
       "      <th>action_type</th>\n",
       "      <th>user_type</th>\n",
       "      <th>epoch</th>\n",
       "      <th>object_id</th>\n",
       "      <th>user_id</th>\n",
       "      <th>sid</th>\n",
       "      <th>og_url</th>\n",
       "      <th>tt_id</th>\n",
       "      <th>sub_account</th>\n",
       "      <th>utm_source</th>\n",
       "      <th>utm_campaign</th>\n",
       "      <th>utm_medium</th>\n",
       "      <th>referrer</th>\n",
       "      <th>utm_content</th>\n",
       "      <th>latitude</th>\n",
       "      <th>longitude</th>\n",
       "      <th>useragent</th>\n",
       "      <th>variant_id</th>\n",
       "    </tr>\n",
       "  </thead>\n",
       "  <tbody>\n",
       "    <tr>\n",
       "      <th>0</th>\n",
       "      <td>view</td>\n",
       "      <td>guest</td>\n",
       "      <td>2019-11-28 20:59:00.000</td>\n",
       "      <td>Buy Engagement Rings Online - Shop Diamond Eng...</td>\n",
       "      <td>NaN</td>\n",
       "      <td>0.693364</td>\n",
       "      <td>https://www.tanishq.co.in/shop/engagement-ring...</td>\n",
       "      <td>1574974426476</td>\n",
       "      <td>tanishq</td>\n",
       "      <td>NaN</td>\n",
       "      <td>NaN</td>\n",
       "      <td>NaN</td>\n",
       "      <td>NaN</td>\n",
       "      <td>NaN</td>\n",
       "      <td>26.9167</td>\n",
       "      <td>75.8167</td>\n",
       "      <td>Mozilla/5.0 (Windows NT 10.0; Win64; x64) Appl...</td>\n",
       "      <td>NaN</td>\n",
       "    </tr>\n",
       "    <tr>\n",
       "      <th>1</th>\n",
       "      <td>view</td>\n",
       "      <td>guest</td>\n",
       "      <td>2019-11-28 20:59:00.000</td>\n",
       "      <td>500064ONAABB09</td>\n",
       "      <td>NaN</td>\n",
       "      <td>0.472003</td>\n",
       "      <td>https://www.tanishq.co.in/product/tanishq-18kt...</td>\n",
       "      <td>1574973022537</td>\n",
       "      <td>tanishq</td>\n",
       "      <td>NaN</td>\n",
       "      <td>NaN</td>\n",
       "      <td>NaN</td>\n",
       "      <td>NaN</td>\n",
       "      <td>NaN</td>\n",
       "      <td>13.0843</td>\n",
       "      <td>80.2805</td>\n",
       "      <td>Mozilla/5.0 (Windows NT 10.0; Win64; x64) Appl...</td>\n",
       "      <td>3IH000030</td>\n",
       "    </tr>\n",
       "    <tr>\n",
       "      <th>2</th>\n",
       "      <td>view</td>\n",
       "      <td>guest</td>\n",
       "      <td>2019-11-28 20:59:01.000</td>\n",
       "      <td>Buy Diamond Earrings Online in India | Shop La...</td>\n",
       "      <td>NaN</td>\n",
       "      <td>0.897467</td>\n",
       "      <td>https://www.tanishq.co.in/shop/diamond-earring...</td>\n",
       "      <td>1574974640117</td>\n",
       "      <td>tanishq</td>\n",
       "      <td>NaN</td>\n",
       "      <td>NaN</td>\n",
       "      <td>NaN</td>\n",
       "      <td>NaN</td>\n",
       "      <td>NaN</td>\n",
       "      <td>38.9841</td>\n",
       "      <td>-77.3672</td>\n",
       "      <td>Mozilla/5.0 (iPhone; CPU iPhone OS 13_1_3 like...</td>\n",
       "      <td>NaN</td>\n",
       "    </tr>\n",
       "    <tr>\n",
       "      <th>3</th>\n",
       "      <td>view</td>\n",
       "      <td>guest</td>\n",
       "      <td>2019-11-28 20:59:01.000</td>\n",
       "      <td>511250PGUAAA00</td>\n",
       "      <td>NaN</td>\n",
       "      <td>0.403961</td>\n",
       "      <td>https://www.tanishq.co.in/product/tanishq-22kt...</td>\n",
       "      <td>1564659331282</td>\n",
       "      <td>tanishq</td>\n",
       "      <td>NaN</td>\n",
       "      <td>Sok_Traffic_MultipleAds_Prospecting_Tanishq_No...</td>\n",
       "      <td>cpc</td>\n",
       "      <td>m.facebook.com</td>\n",
       "      <td>NaN</td>\n",
       "      <td>26.9167</td>\n",
       "      <td>75.8167</td>\n",
       "      <td>Mozilla/5.0 (Linux; Android 8.1.0; Redmi Note ...</td>\n",
       "      <td>2ED000494</td>\n",
       "    </tr>\n",
       "    <tr>\n",
       "      <th>4</th>\n",
       "      <td>view</td>\n",
       "      <td>guest</td>\n",
       "      <td>2019-11-28 20:59:01.000</td>\n",
       "      <td>502112FHHLAJ54</td>\n",
       "      <td>NaN</td>\n",
       "      <td>0.961382</td>\n",
       "      <td>https://www.tanishq.co.in/product/tanishq-18kt...</td>\n",
       "      <td>1574974721184</td>\n",
       "      <td>tanishq</td>\n",
       "      <td>NaN</td>\n",
       "      <td>NaN</td>\n",
       "      <td>NaN</td>\n",
       "      <td>NaN</td>\n",
       "      <td>NaN</td>\n",
       "      <td>32.1000</td>\n",
       "      <td>76.2667</td>\n",
       "      <td>Mozilla/5.0 (iPhone; CPU iPhone OS 13_1_2 like...</td>\n",
       "      <td>3IH000001</td>\n",
       "    </tr>\n",
       "  </tbody>\n",
       "</table>\n",
       "</div>"
      ],
      "text/plain": [
       "  action_type user_type                    epoch  \\\n",
       "0        view     guest  2019-11-28 20:59:00.000   \n",
       "1        view     guest  2019-11-28 20:59:00.000   \n",
       "2        view     guest  2019-11-28 20:59:01.000   \n",
       "3        view     guest  2019-11-28 20:59:01.000   \n",
       "4        view     guest  2019-11-28 20:59:01.000   \n",
       "\n",
       "                                           object_id user_id       sid  \\\n",
       "0  Buy Engagement Rings Online - Shop Diamond Eng...     NaN  0.693364   \n",
       "1                                     500064ONAABB09     NaN  0.472003   \n",
       "2  Buy Diamond Earrings Online in India | Shop La...     NaN  0.897467   \n",
       "3                                     511250PGUAAA00     NaN  0.403961   \n",
       "4                                     502112FHHLAJ54     NaN  0.961382   \n",
       "\n",
       "                                              og_url          tt_id  \\\n",
       "0  https://www.tanishq.co.in/shop/engagement-ring...  1574974426476   \n",
       "1  https://www.tanishq.co.in/product/tanishq-18kt...  1574973022537   \n",
       "2  https://www.tanishq.co.in/shop/diamond-earring...  1574974640117   \n",
       "3  https://www.tanishq.co.in/product/tanishq-22kt...  1564659331282   \n",
       "4  https://www.tanishq.co.in/product/tanishq-18kt...  1574974721184   \n",
       "\n",
       "  sub_account utm_source                                       utm_campaign  \\\n",
       "0     tanishq        NaN                                                NaN   \n",
       "1     tanishq        NaN                                                NaN   \n",
       "2     tanishq        NaN                                                NaN   \n",
       "3     tanishq        NaN  Sok_Traffic_MultipleAds_Prospecting_Tanishq_No...   \n",
       "4     tanishq        NaN                                                NaN   \n",
       "\n",
       "  utm_medium        referrer utm_content  latitude  longitude  \\\n",
       "0        NaN             NaN         NaN   26.9167    75.8167   \n",
       "1        NaN             NaN         NaN   13.0843    80.2805   \n",
       "2        NaN             NaN         NaN   38.9841   -77.3672   \n",
       "3        cpc  m.facebook.com         NaN   26.9167    75.8167   \n",
       "4        NaN             NaN         NaN   32.1000    76.2667   \n",
       "\n",
       "                                           useragent variant_id  \n",
       "0  Mozilla/5.0 (Windows NT 10.0; Win64; x64) Appl...        NaN  \n",
       "1  Mozilla/5.0 (Windows NT 10.0; Win64; x64) Appl...  3IH000030  \n",
       "2  Mozilla/5.0 (iPhone; CPU iPhone OS 13_1_3 like...        NaN  \n",
       "3  Mozilla/5.0 (Linux; Android 8.1.0; Redmi Note ...  2ED000494  \n",
       "4  Mozilla/5.0 (iPhone; CPU iPhone OS 13_1_2 like...  3IH000001  "
      ]
     },
     "execution_count": 11,
     "metadata": {},
     "output_type": "execute_result"
    }
   ],
   "source": [
    "event_data = pd.read_csv('/opt/luciapp/data/tanishq_products_full.csv', parse_dates=True)\n",
    "event_data.head()"
   ]
  },
  {
   "cell_type": "markdown",
   "metadata": {},
   "source": [
    "### Exploring the user segments based on their browsing history"
   ]
  },
  {
   "cell_type": "code",
   "execution_count": 11,
   "metadata": {},
   "outputs": [
    {
     "name": "stdout",
     "output_type": "stream",
     "text": [
      "<class 'pandas.core.frame.DataFrame'>\n",
      "RangeIndex: 801810 entries, 0 to 801809\n",
      "Data columns (total 18 columns):\n",
      " #   Column        Non-Null Count   Dtype  \n",
      "---  ------        --------------   -----  \n",
      " 0   action_type   801810 non-null  object \n",
      " 1   user_type     801810 non-null  object \n",
      " 2   epoch         801810 non-null  object \n",
      " 3   object_id     801793 non-null  object \n",
      " 4   user_id       6299 non-null    object \n",
      " 5   sid           801810 non-null  float64\n",
      " 6   og_url        801810 non-null  object \n",
      " 7   tt_id         801810 non-null  int64  \n",
      " 8   sub_account   801810 non-null  object \n",
      " 9   utm_source    38674 non-null   object \n",
      " 10  utm_campaign  193171 non-null  object \n",
      " 11  utm_medium    193171 non-null  object \n",
      " 12  referrer      360085 non-null  object \n",
      " 13  utm_content   3970 non-null    object \n",
      " 14  latitude      801810 non-null  float64\n",
      " 15  longitude     801810 non-null  float64\n",
      " 16  useragent     801809 non-null  object \n",
      " 17  variant_id    327644 non-null  object \n",
      "dtypes: float64(3), int64(1), object(14)\n",
      "memory usage: 110.1+ MB\n"
     ]
    }
   ],
   "source": [
    "event_data.info()"
   ]
  },
  {
   "cell_type": "code",
   "execution_count": 59,
   "metadata": {},
   "outputs": [
    {
     "data": {
      "text/plain": [
       "cpc                 158462\n",
       "retargeting          19219\n",
       "web                  14466\n",
       "CPC                   1001\n",
       "Click to website         6\n",
       "Banners                  5\n",
       "email                    4\n",
       "71432512313              1\n",
       "71432512553              1\n",
       "Mailer                   1\n",
       "banner                   1\n",
       "71432516593              1\n",
       "71432518753              1\n",
       "71432512513              1\n",
       "post                     1\n",
       "Name: utm_medium, dtype: int64"
      ]
     },
     "execution_count": 59,
     "metadata": {},
     "output_type": "execute_result"
    }
   ],
   "source": [
    "event_data['utm_medium'].value_counts()"
   ]
  },
  {
   "cell_type": "code",
   "execution_count": 45,
   "metadata": {},
   "outputs": [
    {
     "data": {
      "text/plain": [
       "view                    796899\n",
       "add_to_cart               4045\n",
       "remove_from_cart           395\n",
       "add_to_wishlist            208\n",
       "place_order                136\n",
       "register                   110\n",
       "remove_from_wishlist        17\n",
       "Name: action_type, dtype: int64"
      ]
     },
     "execution_count": 45,
     "metadata": {},
     "output_type": "execute_result"
    }
   ],
   "source": [
    "event_data['action_type'].value_counts()"
   ]
  },
  {
   "cell_type": "code",
   "execution_count": 7,
   "metadata": {},
   "outputs": [
    {
     "data": {
      "text/plain": [
       "utm_source       user_type  utm_medium        action_type    \n",
       "FBTanishq        email      cpc               view                  18\n",
       "                                              add_to_wishlist        4\n",
       "                                              add_to_cart            1\n",
       "                 guest      cpc               view                3826\n",
       "                                              add_to_cart          109\n",
       "Facebook         guest      CPC               view                1001\n",
       "GMB              guest      Click to website  view                   6\n",
       "HockeyCurve      guest      Banners           view                   5\n",
       "Netcore_1080_16  guest      Mailer            view                   1\n",
       "criteo           email      retargeting       view                  20\n",
       "                                              add_to_cart            4\n",
       "                 guest      retargeting       view               18920\n",
       "                                              add_to_cart          274\n",
       "gooTANSEARCH     guest      71432512313       view                   1\n",
       "                            71432512513       view                   1\n",
       "                            71432512553       view                   1\n",
       "                            71432516593       view                   1\n",
       "                            71432518753       view                   1\n",
       "yfret            email      web               view                 103\n",
       "                                              add_to_wishlist       14\n",
       "                                              add_to_cart           13\n",
       "                 guest      web               view               14238\n",
       "                                              add_to_cart           98\n",
       "yotpo            guest      email             view                   4\n",
       "Name: action_type, dtype: int64"
      ]
     },
     "execution_count": 7,
     "metadata": {},
     "output_type": "execute_result"
    }
   ],
   "source": [
    "event_data.groupby(['utm_source', 'user_type', 'utm_medium']).action_type.value_counts()"
   ]
  },
  {
   "cell_type": "code",
   "execution_count": 61,
   "metadata": {},
   "outputs": [
    {
     "data": {
      "text/plain": [
       "guest    795528\n",
       "email      6282\n",
       "Name: user_type, dtype: int64"
      ]
     },
     "execution_count": 61,
     "metadata": {},
     "output_type": "execute_result"
    }
   ],
   "source": [
    "event_data['user_type'].value_counts()"
   ]
  },
  {
   "cell_type": "code",
   "execution_count": 76,
   "metadata": {},
   "outputs": [
    {
     "name": "stdout",
     "output_type": "stream",
     "text": [
      "Lat Min: -46.45 \n",
      "Lat Max: 64.9827\n",
      "Long Min: -157.8615 \n",
      "Long Max: 176.9167\n"
     ]
    }
   ],
   "source": [
    "# Let's get the geospatial data for the users\n",
    "print(f\"Lat Min: {event_data['latitude'].min()} \\nLat Max: {event_data['latitude'].max()}\")\n",
    "print(f\"Long Min: {event_data['longitude'].min()} \\nLong Max: {event_data['longitude'].max()}\")"
   ]
  },
  {
   "cell_type": "code",
   "execution_count": 31,
   "metadata": {},
   "outputs": [],
   "source": [
    "event_data['epoch'] = pd.to_datetime(event_data['epoch'])"
   ]
  },
  {
   "cell_type": "code",
   "execution_count": 36,
   "metadata": {
    "pycharm": {
     "is_executing": false
    }
   },
   "outputs": [],
   "source": [
    "event_data['epoch_date'] = event_data['epoch'].dt.date"
   ]
  },
  {
   "cell_type": "code",
   "execution_count": null,
   "metadata": {},
   "outputs": [],
   "source": []
  },
  {
   "cell_type": "code",
   "execution_count": 1,
   "metadata": {},
   "outputs": [
    {
     "ename": "NameError",
     "evalue": "name 'event_data' is not defined",
     "output_type": "error",
     "traceback": [
      "\u001b[0;31m---------------------------------------------------------------------------\u001b[0m",
      "\u001b[0;31mNameError\u001b[0m                                 Traceback (most recent call last)",
      "\u001b[0;32m<ipython-input-1-66fe7751bc6d>\u001b[0m in \u001b[0;36m<module>\u001b[0;34m\u001b[0m\n\u001b[0;32m----> 1\u001b[0;31m \u001b[0mevent_data\u001b[0m\u001b[0;34m[\u001b[0m\u001b[0;34m[\u001b[0m\u001b[0;34m'epoch_date'\u001b[0m\u001b[0;34m,\u001b[0m \u001b[0;34m'action_type'\u001b[0m\u001b[0;34m,\u001b[0m \u001b[0;34m'utm_source'\u001b[0m\u001b[0;34m]\u001b[0m\u001b[0;34m]\u001b[0m\u001b[0;34m.\u001b[0m\u001b[0msort_values\u001b[0m\u001b[0;34m(\u001b[0m\u001b[0mby\u001b[0m\u001b[0;34m=\u001b[0m\u001b[0;34m'epoch_date'\u001b[0m\u001b[0;34m)\u001b[0m\u001b[0;34m.\u001b[0m\u001b[0mgroupby\u001b[0m\u001b[0;34m(\u001b[0m\u001b[0;34m[\u001b[0m\u001b[0;34m'utm_source'\u001b[0m\u001b[0;34m,\u001b[0m \u001b[0;34m'epoch_date'\u001b[0m\u001b[0;34m,\u001b[0m \u001b[0;34m'action_type'\u001b[0m\u001b[0;34m]\u001b[0m\u001b[0;34m)\u001b[0m\u001b[0;34m.\u001b[0m\u001b[0magg\u001b[0m\u001b[0;34m(\u001b[0m\u001b[0;34m{\u001b[0m\u001b[0;34m'action_type'\u001b[0m\u001b[0;34m:\u001b[0m \u001b[0;34m'count'\u001b[0m\u001b[0;34m}\u001b[0m\u001b[0;34m)\u001b[0m\u001b[0;34m\u001b[0m\u001b[0;34m\u001b[0m\u001b[0m\n\u001b[0m",
      "\u001b[0;31mNameError\u001b[0m: name 'event_data' is not defined"
     ]
    }
   ],
   "source": [
    "event_data[['epoch_date', 'action_type', 'utm_source']].sort_values(by='epoch_date').groupby(['utm_source', 'epoch_date', 'action_type']).agg({'action_type': 'count'})"
   ]
  },
  {
   "cell_type": "code",
   "execution_count": 68,
   "metadata": {},
   "outputs": [
    {
     "data": {
      "text/plain": [
       "<matplotlib.axes._subplots.AxesSubplot at 0x136e3b8d0>"
      ]
     },
     "execution_count": 68,
     "metadata": {},
     "output_type": "execute_result"
    },
    {
     "data": {
      "image/png": "[encoded data removed]",
      "text/plain": [
       "<Figure size 1080x504 with 1 Axes>"
      ]
     },
     "metadata": {
      "needs_background": "light"
     },
     "output_type": "display_data"
    }
   ],
   "source": [
    "import matplotlib.pyplot as plt\n",
    "fig, ax = plt.subplots(figsize=(15,7))\n",
    "event_data[event_data.action_type != 'view'].sort_values(by='epoch_date').groupby(['epoch_date', 'action_type']).agg({'action_type': 'count'}).unstack().plot(ax=ax)"
   ]
  },
  {
   "cell_type": "code",
   "execution_count": null,
   "metadata": {},
   "outputs": [],
   "source": []
  },
  {
   "cell_type": "code",
   "execution_count": null,
   "metadata": {},
   "outputs": [],
   "source": []
  }
 ],
 "metadata": {
  "kernelspec": {
   "display_name": "Python 3",
   "language": "python",
   "name": "python3"
  },
  "language_info": {
   "codemirror_mode": {
    "name": "ipython",
    "version": 3
   },
   "file_extension": ".py",
   "mimetype": "text/x-python",
   "name": "python",
   "nbconvert_exporter": "python",
   "pygments_lexer": "ipython3",
   "version": "3.7.5"
  },
  "pycharm": {
   "stem_cell": {
    "cell_type": "raw",
    "metadata": {
     "collapsed": false
    },
    "source": []
   }
  }
 },
 "nbformat": 4,
 "nbformat_minor": 4
}
